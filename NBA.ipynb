{
 "metadata": {
  "name": "",
  "signature": "sha256:aa516a56f1856cfa41f36c37f7e381d49d3aa96a063e005e3dbd0a33e7df9ae1"
 },
 "nbformat": 3,
 "nbformat_minor": 0,
 "worksheets": [
  {
   "cells": [
    {
     "cell_type": "heading",
     "level": 1,
     "metadata": {},
     "source": [
      "Load the Data"
     ]
    },
    {
     "cell_type": "code",
     "collapsed": false,
     "input": [
      "import pandas as pd\n",
      "from collections import defaultdict\n",
      "source_file = '/Users/normanyu/Downloads/nba_data.csv'\n",
      "master_df = pd.read_csv(source_file, delimiter = '\\t', na_values = {'Home_Team_Players': ['(null)'], 'Visitor_Team_Players': ['(null)']})"
     ],
     "language": "python",
     "metadata": {},
     "outputs": [],
     "prompt_number": 90
    },
    {
     "cell_type": "heading",
     "level": 1,
     "metadata": {},
     "source": [
      "Extract a single game"
     ]
    },
    {
     "cell_type": "code",
     "collapsed": false,
     "input": [
      "# extract rows for the first game\n",
      "game_ids = master_df.Game_id.unique()\n",
      "game_id = game_ids[0]\n",
      "\n",
      "# extract only the columns we need\n",
      "game_df = master_df[master_df.Game_id == game_id]#[[\"Home_Team_Players\", \"Visitor_Team_Players\", \"t_remaining\", \"Period\"]]"
     ],
     "language": "python",
     "metadata": {},
     "outputs": [],
     "prompt_number": 92
    },
    {
     "cell_type": "heading",
     "level": 1,
     "metadata": {},
     "source": [
      "Compute the time elapsed between events"
     ]
    },
    {
     "cell_type": "code",
     "collapsed": false,
     "input": [
      "game_df['time_elapsed'] = -game_df.t_remaining.diff().shift(periods=-1).fillna(0)\n",
      "# pad missing rows\n",
      "game_df.Visitor_Team_Players.fillna(method='ffill', inplace=True)\n",
      "game_df.Home_Team_Players.fillna(method='ffill', inplace=True)"
     ],
     "language": "python",
     "metadata": {},
     "outputs": [],
     "prompt_number": 102
    },
    {
     "cell_type": "code",
     "collapsed": false,
     "input": [
      "# create a table to store the minutes played\n",
      "minutes_book = defaultdict(lambda: defaultdict(int))\n",
      "\n",
      "# for each row, tally the number of seconds each player has been in for since the last event\n",
      "for index, row in game_df.iterrows():\n",
      "    active_players = []\n",
      "    active_players.extend([player_name.strip() for player_name in row.Home_Team_Players.strip().split('-')])\n",
      "    active_players.extend([player_name.strip() for player_name in row.Visitor_Team_Players.strip().split('-')])\n",
      "\n",
      "    period = row.Period # deal with periods\n",
      "    \n",
      "    # increment the minutes for each player\n",
      "    for player in active_players:\n",
      "        if '(null)' in player:\n",
      "            continue\n",
      "        minutes_book[player][period] += row.time_elapsed"
     ],
     "language": "python",
     "metadata": {},
     "outputs": [],
     "prompt_number": 109
    },
    {
     "cell_type": "heading",
     "level": 1,
     "metadata": {},
     "source": [
      "Print the results"
     ]
    },
    {
     "cell_type": "code",
     "collapsed": false,
     "input": [
      "total_time = 0\n",
      "for k, d in minutes_book.items():\n",
      "    print k, '-->',\n",
      "    for period, seconds in d.items():\n",
      "        print '%s: %.0f'%(period, seconds),\n",
      "    print '\\n',"
     ],
     "language": "python",
     "metadata": {},
     "outputs": [
      {
       "output_type": "stream",
       "stream": "stdout",
       "text": [
        "Moore,E'Twaun --> 1: 261 2: 444 3: 346 4: 485 \n",
        "Hill,George --> 1: 625 2: 276 3: 542 4: 300 \n",
        "Vucevic,Nikola --> 1: 720 2: 276 3: 430 4: 420 \n",
        "Afflalo,Arron --> 1: 485 2: 720 3: 374 4: 420 \n",
        "Hill,Solomon --> 2: 444 4: 45 \n",
        "West,David --> 1: 404 2: 468 3: 720 4: 255 \n",
        "Scola,Luis --> 1: 316 2: 252 4: 675 \n",
        "Mahinmi,Ian --> 2: 444 3: 290 4: 270 \n",
        "Hibbert,Roy --> 1: 720 2: 276 3: 430 4: 195 \n",
        "Nelson,Jameer --> 1: 459 2: 619 3: 542 4: 235 \n",
        "O'Quinn,Kyle --> 2: 252 3: 290 4: 300 \n",
        "Maxiell,Jason --> 1: 404 2: 468 3: 720 \n",
        "Stephenson,Lance --> 1: 390 2: 720 3: 385 4: 675 \n",
        "Nicholson,Andrew --> 1: 316 2: 444 4: 420 \n",
        "Jones,Solomon --> 4: 300 \n",
        "Johnson,Orlando --> 1: 330 3: 335 4: 297 \n",
        "George,Paul --> 1: 720 2: 276 3: 720 4: 378 \n",
        "Oladipo,Victor --> 1: 330 2: 161 3: 574 4: 284 \n",
        "Harkless,Maurice --> 1: 625 2: 216 3: 146 4: 436 \n",
        "Price,Ronnie --> 3: 178 4: 300 \n",
        "Watson,CJ --> 1: 95 2: 444 3: 178 4: 465 \n",
        "Butler,Rasual --> 4: 45 \n"
       ]
      }
     ],
     "prompt_number": 110
    }
   ],
   "metadata": {}
  }
 ]
}