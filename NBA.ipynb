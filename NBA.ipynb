{
 "metadata": {
  "name": "",
  "signature": "sha256:c4b6411a01e5ce7b99e03d11c1017ace5ac80ab50ca115e84bf5a3cc9051dacf"
 },
 "nbformat": 3,
 "nbformat_minor": 0,
 "worksheets": [
  {
   "cells": [
    {
     "cell_type": "heading",
     "level": 1,
     "metadata": {},
     "source": [
      "Load the Data"
     ]
    },
    {
     "cell_type": "code",
     "collapsed": false,
     "input": [
      "import pandas as pd\n",
      "source_file = '/Users/normanyu/Downloads/nba_data.csv'\n",
      "master_df = pd.read_csv(source_file, delimiter = '\\t')"
     ],
     "language": "python",
     "metadata": {},
     "outputs": [],
     "prompt_number": 13
    },
    {
     "cell_type": "code",
     "collapsed": false,
     "input": [
      "# extract rows for the first game\n",
      "game_ids = master_df.Game_id.unique()\n",
      "game_id = game_ids[0]"
     ],
     "language": "python",
     "metadata": {},
     "outputs": [],
     "prompt_number": 14
    },
    {
     "cell_type": "code",
     "collapsed": false,
     "input": [
      "game_df = master_df[master_df.Game_id == game_id][[\"Home_Team_Players\", \"Visitor_Team_Players\", \"t_remaining\"]]"
     ],
     "language": "python",
     "metadata": {},
     "outputs": [],
     "prompt_number": 37
    },
    {
     "cell_type": "code",
     "collapsed": false,
     "input": [
      "# compute the time elapsed between events\n",
      "game_df['time_elapsed'] = -game_df.t_remaining.diff().shift(periods=-1).fillna(0)"
     ],
     "language": "python",
     "metadata": {},
     "outputs": [],
     "prompt_number": 65
    },
    {
     "cell_type": "code",
     "collapsed": false,
     "input": [
      "# create a table to store the minutes played\n",
      "minutes_book = defaultdict(int)\n",
      "\n",
      "for index, row in game_df.iterrows():\n",
      "    all_players = []\n",
      "    all_players.extend([player_name.strip() for player_name in row.Home_Team_Players.strip().split('-')])\n",
      "    all_players.extend([player_name.strip() for player_name in row.Visitor_Team_Players.strip().split('-')])\n",
      "    for player in all_players:\n",
      "        if player == '(null)':\n",
      "            continue\n",
      "        minutes_book[player] += row.time_elapsed"
     ],
     "language": "python",
     "metadata": {},
     "outputs": [],
     "prompt_number": 66
    },
    {
     "cell_type": "code",
     "collapsed": false,
     "input": [
      "for k, v in minutes_book.items():\n",
      "    print k, '-->', v"
     ],
     "language": "python",
     "metadata": {},
     "outputs": [
      {
       "output_type": "stream",
       "stream": "stdout",
       "text": [
        "Moore,E'Twaun --> 1426.0\n",
        "Hill,George --> 1670.9\n",
        "Vucevic,Nikola --> 1786.9\n",
        "Afflalo,Arron --> 1895.9\n",
        "Hill,Solomon --> 423.9\n",
        "West,David --> 1770.0\n",
        "Scola,Luis --> 1179.1\n",
        "Mahinmi,Ian --> 904.9\n",
        "Hibbert,Roy --> 1578.9\n",
        "Nelson,Jameer --> 1730.9\n",
        "O'Quinn,Kyle --> 775.0\n",
        "Maxiell,Jason --> 1514.9\n",
        "Stephenson,Lance --> 2056.0\n",
        "Nicholson,Andrew --> 1101.0\n",
        "Jones,Solomon --> 300.0\n",
        "Johnson,Orlando --> 905.0\n",
        "George,Paul --> 2048.0\n",
        "Oladipo,Victor --> 1319.9\n",
        "Harkless,Maurice --> 1366.0\n",
        "Price,Ronnie --> 478.0\n",
        "Watson,CJ --> 1112.9\n",
        "Butler,Rasual --> 44.9\n"
       ]
      }
     ],
     "prompt_number": 67
    },
    {
     "cell_type": "code",
     "collapsed": false,
     "input": [],
     "language": "python",
     "metadata": {},
     "outputs": []
    }
   ],
   "metadata": {}
  }
 ]
}