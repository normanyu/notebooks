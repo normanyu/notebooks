{
 "metadata": {
  "name": "",
  "signature": "sha256:a5bdc0f6da0815a3cd46fb6c93e11105338e55b6d245dc1e9d095d7dc34eae5e"
 },
 "nbformat": 3,
 "nbformat_minor": 0,
 "worksheets": [
  {
   "cells": [
    {
     "cell_type": "heading",
     "level": 1,
     "metadata": {},
     "source": [
      "Load the Data"
     ]
    },
    {
     "cell_type": "code",
     "collapsed": false,
     "input": [
      "import pandas as pd\n",
      "from collections import defaultdict\n",
      "source_file = '/Users/normanyu/Downloads/nba_data.csv'\n",
      "master_df = pd.read_csv(source_file, delimiter = '\\t')"
     ],
     "language": "python",
     "metadata": {},
     "outputs": [],
     "prompt_number": 9
    },
    {
     "cell_type": "heading",
     "level": 1,
     "metadata": {},
     "source": [
      "Extract a single game"
     ]
    },
    {
     "cell_type": "code",
     "collapsed": false,
     "input": [
      "# extract rows for the first game\n",
      "game_ids = master_df.Game_id.unique()\n",
      "game_id = game_ids[0]\n",
      "\n",
      "# extract only the columns we need\n",
      "game_df = master_df[master_df.Game_id == game_id][[\"Home_Team_Players\", \"Visitor_Team_Players\", \"t_remaining\", \"Period\"]]"
     ],
     "language": "python",
     "metadata": {},
     "outputs": [],
     "prompt_number": 10
    },
    {
     "cell_type": "heading",
     "level": 1,
     "metadata": {},
     "source": [
      "Compute the time elapsed between events"
     ]
    },
    {
     "cell_type": "code",
     "collapsed": false,
     "input": [
      "game_df['time_elapsed'] = -game_df.t_remaining.diff().shift(periods=-1).fillna(0)\n",
      "game_df.Home_Team_Players[0]"
     ],
     "language": "python",
     "metadata": {},
     "outputs": [
      {
       "metadata": {},
       "output_type": "pyout",
       "prompt_number": 32,
       "text": [
        "'George,Paul - Hibbert,Roy - Hill,George - Stephenson,Lance - West,David'"
       ]
      }
     ],
     "prompt_number": 32
    },
    {
     "cell_type": "code",
     "collapsed": false,
     "input": [
      "# create a table to store the minutes played\n",
      "minutes_book = defaultdict(lambda: defaultdict(int))\n",
      "\n",
      "# for each row, tally the number of seconds each player has been in for since the last event\n",
      "for index, row in game_df.iterrows():\n",
      "    active_players = []\n",
      "    active_players.extend([player_name.strip() for player_name in row.Home_Team_Players.strip().split('-')])\n",
      "    active_players.extend([player_name.strip() for player_name in row.Visitor_Team_Players.strip().split('-')])\n",
      "    period = row.Period # deal with periods\n",
      "    \n",
      "    # increment the minutes for each player\n",
      "    for player in active_players:\n",
      "        if player == '(null)':\n",
      "            continue\n",
      "        minutes_book[player][period] += row.time_elapsed"
     ],
     "language": "python",
     "metadata": {},
     "outputs": [],
     "prompt_number": 22
    },
    {
     "cell_type": "heading",
     "level": 1,
     "metadata": {},
     "source": [
      "Print the results"
     ]
    },
    {
     "cell_type": "code",
     "collapsed": false,
     "input": [
      "for k, d in minutes_book.items():\n",
      "    print k, '-->',\n",
      "    for period, seconds in d.items():\n",
      "        print '%s: %.0f'%(period, seconds),\n",
      "    print '\\n',"
     ],
     "language": "python",
     "metadata": {},
     "outputs": [
      {
       "output_type": "stream",
       "stream": "stdout",
       "text": [
        "Moore,E'Twaun --> 1: 261 2: 379 3: 318 4: 468 \n",
        "Hill,George --> 1: 607 2: 265 3: 499 4: 300 \n",
        "Vucevic,Nikola --> 1: 702 2: 265 3: 404 4: 416 \n",
        "Afflalo,Arron --> 1: 477 2: 644 3: 359 4: 416 \n",
        "Hill,Solomon --> 2: 379 4: 45 \n",
        "West,David --> 1: 396 2: 442 3: 677 4: 255 \n",
        "Scola,Luis --> 1: 306 2: 202 4: 671 \n",
        "Mahinmi,Ian --> 2: 379 3: 273 4: 253 \n",
        "Hibbert,Roy --> 1: 702 2: 265 3: 404 4: 208 \n",
        "Nelson,Jameer --> 1: 441 2: 543 3: 499 4: 248 \n",
        "O'Quinn,Kyle --> 2: 202 3: 273 4: 300 \n",
        "Maxiell,Jason --> 1: 396 2: 442 3: 677 \n",
        "Stephenson,Lance --> 1: 382 2: 644 3: 359 4: 671 \n",
        "Nicholson,Andrew --> 1: 306 2: 379 4: 416 \n",
        "Jones,Solomon --> 4: 300 \n",
        "Johnson,Orlando --> 1: 320 3: 318 4: 267 \n",
        "George,Paul --> 1: 702 2: 265 3: 677 4: 404 \n",
        "Oladipo,Victor --> 1: 320 2: 161 3: 537 4: 302 \n",
        "Harkless,Maurice --> 1: 607 2: 205 3: 140 4: 414 \n",
        "Price,Ronnie --> 3: 178 4: 300 \n",
        "Watson,CJ --> 1: 95 2: 379 3: 178 4: 461 \n",
        "Butler,Rasual --> 4: 45 \n"
       ]
      }
     ],
     "prompt_number": 27
    }
   ],
   "metadata": {}
  }
 ]
}